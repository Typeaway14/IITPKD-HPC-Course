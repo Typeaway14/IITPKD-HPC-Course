{
  "nbformat": 4,
  "nbformat_minor": 0,
  "metadata": {
    "colab": {
      "provenance": []
    },
    "kernelspec": {
      "name": "python3",
      "display_name": "Python 3"
    },
    "accelerator": "GPU"
  },
  "cells": [
    {
      "cell_type": "markdown",
      "metadata": {
        "id": "ou0msMUmgx6m"
      },
      "source": [
        "\n",
        "#### **Instructions**\n",
        "1. Use Python 3.x to run this notebook\n",
        "2. Write your code only in between the lines 'YOUR CODE STARTS HERE' and 'YOUR CODE ENDS HERE'.\n",
        "you should not change anything else in the code cells, if you do, the answers you are supposed to get at the end of this assignment might be wrong.\n",
        "3. Read documentation of each function carefully.\n",
        "4. All the Best!"
      ]
    },
    {
      "cell_type": "markdown",
      "metadata": {
        "id": "gTuteiZLlJcy"
      },
      "source": [
        "\n",
        "### Part-1: Resnet-18 from scratch\n",
        "\n",
        "In this question, you'll have to code Resnet-18 from scratch (we have provided a lot starter code), this'll help you get a hold on how to code an architecture with skip connections and blocks of layers.\n",
        "\n",
        "It's suggested you first briefly understand how the Resnet architecture is defined originally before you start with this question. We do take inspiration from the original Pytorch implementation, but if you try peeking into the original source code in the library, it'll confuse you more than helping!\n",
        "\n",
        "**Sidenote:** As this assignment is mainly focused on learning things, we train the models only for a small number of epochs and don't focus on hyper-parameter tuning. When you start using deep learning in real-world applications and competitions, hyper-parameter tuning plays a decent role!"
      ]
    },
    {
      "cell_type": "code",
      "metadata": {
        "id": "GM0uht4kcYVs"
      },
      "source": [
        "import numpy as np\n",
        "import torch\n",
        "import torch.nn as nn\n",
        "import torch.optim as optim\n",
        "from torchvision import datasets, transforms\n",
        "import torchvision\n",
        "import torch.nn.functional as F\n",
        "import timeit\n",
        "import unittest\n",
        "\n",
        "## Please DONOT remove these lines.\n",
        "torch.manual_seed(0)\n",
        "torch.backends.cudnn.deterministic = True\n",
        "torch.backends.cudnn.benchmark = False\n",
        "np.random.seed(0)"
      ],
      "execution_count": 57,
      "outputs": []
    },
    {
      "cell_type": "code",
      "metadata": {
        "id": "uhNHc_cjmvoo"
      },
      "source": [
        "# check availability of GPU and set the device accordingly\n",
        "device = torch.device(\"cuda\" if torch.cuda.is_available() else \"cpu\")\n",
        "\n",
        "# define a set of transforms for preparing the dataset\n",
        "transform_train = transforms.Compose([\n",
        "        transforms.RandomCrop(32, padding=8),\n",
        "        transforms.RandomHorizontalFlip(), # flip the image horizontally (use pytorch random horizontal flip)\n",
        "        transforms.ToTensor(), # convert the image to a pytorch tensor\n",
        "        transforms.Normalize((0.4914, 0.4822, 0.4465), (0.2023, 0.1994, 0.2010)) # normalise the images with mean and std of the dataset\n",
        "        ])\n",
        "\n",
        "# define transforms for the test data: Should they be same as the one used for train?\n",
        "transform_test = transforms.Compose([\n",
        "        transforms.ToTensor(),\n",
        "        transforms.Normalize((0.4914, 0.4822, 0.4465), (0.2023, 0.1994, 0.2010))\n",
        "        ])\n",
        "\n",
        "use_cuda = torch.cuda.is_available() # if you have acess to a GPU, enable it to speed the training"
      ],
      "execution_count": 58,
      "outputs": []
    },
    {
      "cell_type": "code",
      "metadata": {
        "id": "cQciUzi2oF5Q",
        "colab": {
          "base_uri": "https://localhost:8080/"
        },
        "outputId": "f47290bb-0446-45a7-9446-8debeb334da3"
      },
      "source": [
        "# Load the MNIST training, test datasets using `torchvision.datasets.MNIST`\n",
        "#### YOUR CODE STARTS HERE ####\n",
        "train_dataset = datasets.MNIST(root='./data', train=True, download=True)\n",
        "test_dataset = datasets.MNIST(root='./data', train=False, download=True)\n",
        "\n",
        "print(train_dataset)\n",
        "print(test_dataset)\n",
        "\n",
        "#### YOUR CODE ENDS HERE ####"
      ],
      "execution_count": 59,
      "outputs": [
        {
          "output_type": "stream",
          "name": "stdout",
          "text": [
            "Dataset MNIST\n",
            "    Number of datapoints: 60000\n",
            "    Root location: ./data\n",
            "    Split: Train\n",
            "Dataset MNIST\n",
            "    Number of datapoints: 10000\n",
            "    Root location: ./data\n",
            "    Split: Test\n"
          ]
        }
      ]
    },
    {
      "cell_type": "code",
      "metadata": {
        "id": "A1Za_R3Yrie2"
      },
      "source": [
        "# create dataloaders for training and test datasets\n",
        "# use a batch size of 32 and set shuffle=True for the training set\n",
        "#### YOUR CODE STARTS HERE ####\n",
        "\n",
        "# Define the batch size\n",
        "batch_size = 32\n",
        "\n",
        "# Load the training dataset\n",
        "train_dataset = torchvision.datasets.MNIST(\n",
        "    root='./data',\n",
        "    train=True,\n",
        "    download=True,\n",
        "    transform=torchvision.transforms.ToTensor()\n",
        "    )\n",
        "\n",
        "\n",
        "# Create the training dataloader with shuffle enabled\n",
        "train_dataloader = torch.utils.data.DataLoader(\n",
        "    train_dataset,\n",
        "    batch_size=batch_size,\n",
        "    shuffle=True\n",
        "    )\n",
        "\n",
        "# Load the test dataset\n",
        "test_dataset = torchvision.datasets.MNIST(\n",
        "    root='./data',\n",
        "    train=False,\n",
        "    download=True,\n",
        "    transform=transforms.ToTensor()\n",
        "    )\n",
        "\n",
        "# Create the test dataloader\n",
        "test_dataloader = torch.utils.data.DataLoader(\n",
        "    test_dataset,\n",
        "    batch_size=batch_size,\n",
        "    shuffle=False\n",
        "    )\n",
        "\n",
        "\n",
        "#### YOUR CODE ENDS HERE ####"
      ],
      "execution_count": 60,
      "outputs": []
    },
    {
      "cell_type": "code",
      "metadata": {
        "id": "gCifYwfbT9Ic"
      },
      "source": [
        "def conv3x3(in_planes, out_planes, stride=1, groups=1):\n",
        "    # define a convolutional layer with a kernel size of 3x3\n",
        "    # use stride, groups values passed to the function along with a padding of 1 and dilatio of 1\n",
        "    # set bias to False\n",
        "    #### YOUR CODE STARTS HERE ####\n",
        "    layer = nn.Conv2d(\n",
        "        in_planes,\n",
        "        out_planes,\n",
        "        kernel_size=3,\n",
        "        stride=stride,\n",
        "        padding=1,\n",
        "        groups=groups,\n",
        "        bias=False\n",
        "        )\n",
        "\n",
        "    #### YOUR CODE ENDS HERE ####\n",
        "    return layer\n",
        "\n",
        "\n",
        "def conv1x1(in_planes, out_planes, stride=1):\n",
        "    # define a convolutional layer with a kernel size of 1x1\n",
        "    # use stride value passed to the function\n",
        "    # set bias to False\n",
        "    # leave all other parameters to default values\n",
        "    #### YOUR CODE STARTS HERE ####\n",
        "    layer = nn.Conv2d(\n",
        "        in_planes,\n",
        "        out_planes,\n",
        "        kernel_size=1,\n",
        "        stride=stride,\n",
        "        bias=False\n",
        "        )\n",
        "\n",
        "    #### YOUR CODE ENDS HERE ####\n",
        "    return layer\n",
        "\n",
        "class BasicBlock(nn.Module):\n",
        "    expansion = 1\n",
        "    def __init__(self, inplanes, planes, stride=1, downsample=None, groups=1,\n",
        "                 base_width=64):\n",
        "        super(BasicBlock, self).__init__()\n",
        "        #### YOUR CODE STARTS HERE ####\n",
        "        # define batch-norm layer to for easy use (you don't have to call it here)\n",
        "        norm_layer = nn.BatchNorm2d\n",
        "\n",
        "        # define a 3x3 convolution layer with inplanes as in-channels and planes and out_channels, use the passed value of stride\n",
        "        self.conv1 = conv3x3(inplanes, planes, stride, groups)\n",
        "\n",
        "        # define a batchnorm layer (use the norm_layer defined above)\n",
        "        self.bn1 = norm_layer(planes)\n",
        "\n",
        "        # define a relu layer with inplace set to True\n",
        "        self.relu = nn.ReLU(inplace=True)\n",
        "\n",
        "        # define a 3x3 convolution layer with inplanes as in-channels and planes and out_channels\n",
        "        self.conv2 = conv3x3(planes, planes)\n",
        "\n",
        "        # define a batchnorm layer (use the norm_layer defined above)\n",
        "        self.bn2 = norm_layer(planes)\n",
        "\n",
        "        #### YOUR CODE ENDS HERE ####\n",
        "        self.downsample = downsample\n",
        "        self.stride = stride\n",
        "\n",
        "    def forward(self, x):\n",
        "        #### YOUR CODE STARTS HERE ####\n",
        "        # make a copy of input (for using them in skip connections)\n",
        "        identity = x\n",
        "\n",
        "        # pass the input through, conv1->bn1->relu->conv2->bn2\n",
        "        out = self.conv1(x)\n",
        "        out = self.bn1(out)\n",
        "        out = self.relu(out)\n",
        "\n",
        "        out = self.conv2(out)\n",
        "        out = self.bn2(out)\n",
        "\n",
        "        #### YOUR CODE ENDS HERE ####\n",
        "\n",
        "        if self.downsample is not None:\n",
        "            identity = self.downsample(x)\n",
        "\n",
        "        #### YOUR CODE STARTS HERE ####\n",
        "        # add the skip connection\n",
        "        out += identity\n",
        "\n",
        "        # use a relu activation on `out`\n",
        "        out = self.relu(out)\n",
        "\n",
        "        #### YOUR CODE ENDS HERE ####\n",
        "\n",
        "        return out"
      ],
      "execution_count": 61,
      "outputs": []
    },
    {
      "cell_type": "code",
      "metadata": {
        "id": "Sr00CBjlfqsp"
      },
      "source": [
        "class ResNet18(nn.Module):\n",
        "  # first start with make_layer method followed by __init__, forward methods\n",
        "    def __init__(self, block, num_classes=10, groups=1):\n",
        "        super(ResNet18, self).__init__()\n",
        "\n",
        "        # define batch-norm layer to for easy use (you don't have to call it here)\n",
        "        norm_layer = nn.BatchNorm2d\n",
        "        self._norm_layer = norm_layer\n",
        "        self.inplanes = 64\n",
        "        self.dilation = 1\n",
        "\n",
        "        self.groups = groups\n",
        "        self.base_width = 64\n",
        "        #### YOUR CODE STARTS HERE ####\n",
        "        # define a conv layer with number of image channels as in-channels and inplanes ans out-channles,\n",
        "        # use a kernel size of 7, stride of 2, padding of 3 and set bias to False\n",
        "        self.conv1 = nn.Conv2d(\n",
        "            1,\n",
        "            self.inplanes,\n",
        "            kernel_size=7,\n",
        "            stride=2,\n",
        "            padding=3,\n",
        "            bias=False\n",
        "            )\n",
        "\n",
        "        # define a batchnorm layer (use the norm_layer defined above)\n",
        "        self.bn1 = norm_layer(self.inplanes)\n",
        "\n",
        "        # define a relu layer with inplace set to True\n",
        "        self.relu = nn.ReLU(inplace=True)\n",
        "\n",
        "        # define a maxpool layer with kernel size of 3, stride of 2, padding of 1\n",
        "        self.maxpool = nn.MaxPool2d(kernel_size=3, stride=2, padding=1)\n",
        "\n",
        "        # complete the make layer method below and use it with the block value passed to init\n",
        "        # with 64 planes and 2 blocks\n",
        "        self.layer1 = self._make_layer(block, 64, 2)\n",
        "\n",
        "        # use  make layer method to define a second set of layers with the block value passed to init\n",
        "        # with 128 planes and 2 blocks and a stride value of 2\n",
        "        self.layer2 = self._make_layer(block, 128, 2, stride=2)\n",
        "\n",
        "        # use  make layer method to define a second set of layers with the block value passed to init\n",
        "        # with 256 planes and 2 blocks and a stride value of 2\n",
        "        self.layer3 = self._make_layer(block, 256, 2, stride=2)\n",
        "\n",
        "        # use  make layer method to define a second set of layers with the block value passed to init\n",
        "        # with 512 planes and 2 blocks and a stride value of 2\n",
        "        self.layer4 = self._make_layer(block, 512, 2, stride=2)\n",
        "\n",
        "        # define  adaptive avergae pooling layer with output size (1, 1)\n",
        "        self.avgpool = nn.AdaptiveAvgPool2d((1, 1))\n",
        "\n",
        "        #### YOUR CODE ENDS HERE ####\n",
        "        self.fc = nn.Linear(512 * block.expansion, num_classes)\n",
        "\n",
        "\n",
        "        for m in self.modules():\n",
        "            if isinstance(m, nn.Conv2d):\n",
        "                # initialise the weights with kaiming normal, set mode to fan out and\n",
        "                # non_linearity to the activation function you used above\n",
        "                nn.init.kaiming_normal_(m.weight, mode='fan_out', nonlinearity='relu')\n",
        "            elif isinstance(m, nn.BatchNorm2d):\n",
        "                # initialise weights with a value of 1 and bias with a value of 0\n",
        "                nn.init.constant_(m.weight, 1)\n",
        "                nn.init.constant_(m.bias, 0)\n",
        "\n",
        "\n",
        "\n",
        "    def _make_layer(self, block, planes, blocks, stride=1):\n",
        "        norm_layer = self._norm_layer\n",
        "        downsample = None\n",
        "        previous_dilation = self.dilation\n",
        "        if stride != 1 or self.inplanes != planes * block.expansion:\n",
        "            downsample = nn.Sequential(\n",
        "                conv1x1(self.inplanes, planes * block.expansion, stride),\n",
        "                norm_layer(planes * block.expansion),\n",
        "            )\n",
        "        layers = []\n",
        "        layers.append(block(self.inplanes, planes, stride, downsample, self.groups,\n",
        "                            self.base_width))\n",
        "        self.inplanes = planes * block.expansion\n",
        "        for _ in range(1, blocks):\n",
        "            #### YOUR CODE STARTS HERE ####\n",
        "            # append the blocks to layers, leave stride and downsample to default values\n",
        "            layers.append(block(self.inplanes, planes))\n",
        "\n",
        "            #### YOUR CODE ENDS HERE ####\n",
        "\n",
        "        return nn.Sequential(*layers)\n",
        "\n",
        "    def forward(self, x):\n",
        "        #### YOUR CODE STARTS HERE ####\n",
        "        # complete the forward pass\n",
        "        # order of layers: conv1->bn1->relu->maxpool->layer1->layer2->layer3->layer4->avgpool->fc\n",
        "        x = self.conv1(x)\n",
        "        x = self.bn1(x)\n",
        "        x = self.relu(x)\n",
        "        x = self.maxpool(x)\n",
        "\n",
        "        x = self.layer1(x)\n",
        "        x = self.layer2(x)\n",
        "        x = self.layer3(x)\n",
        "        x = self.layer4(x)\n",
        "\n",
        "        x = self.avgpool(x)\n",
        "        x = torch.flatten(x, 1)\n",
        "        x = self.fc(x)\n",
        "\n",
        "        #### YOUR CODE ENDS HERE ####\n",
        "        return x"
      ],
      "execution_count": 62,
      "outputs": []
    },
    {
      "cell_type": "code",
      "metadata": {
        "id": "LmTBdw1NoNPt"
      },
      "source": [
        "def train(model, device, train_loader, criterion, optimizer, epoch):\n",
        "    model.train()\n",
        "    for batch_idx, (data, target) in enumerate(train_loader):\n",
        "      #### YOUR CODE STARTS HERE ####\n",
        "        # send the image, target to the device\n",
        "        data, target = data.to(device), target.to(device)\n",
        "\n",
        "        # flush out the gradients stored in optimizer\n",
        "        optimizer.zero_grad()\n",
        "\n",
        "        # pass the image to the model and assign the output to variable named output\n",
        "        output = model(data)\n",
        "\n",
        "        # calculate the loss (use cross entropy in pytorch)\n",
        "        loss = criterion(output, target)\n",
        "\n",
        "        # do a backward pass\n",
        "        loss.backward()\n",
        "\n",
        "        # update the weights\n",
        "        optimizer.step()\n",
        "\n",
        "      #### YOUR CODE ENDS HERE ####\n",
        "        if batch_idx % 20 == 0:\n",
        "            print('Train Epoch: {} [{}/{} ({:.0f}%)]\\tLoss: {:.6f}'.format(\n",
        "                epoch, batch_idx * len(data), len(train_loader.dataset),\n",
        "                100. * batch_idx / len(train_loader), loss.item()))"
      ],
      "execution_count": 63,
      "outputs": []
    },
    {
      "cell_type": "code",
      "metadata": {
        "id": "JDSnXB7HpuyN"
      },
      "source": [
        "def test(model, device, test_loader, criterion):\n",
        "    model.eval()\n",
        "    test_loss = 0\n",
        "    correct = 0\n",
        "    with torch.no_grad():\n",
        "        for data, target in test_loader:\n",
        "          ### YOUR CODE STARTS HERE ####\n",
        "            # send the image, target to the device\n",
        "            data, target = data.to(device), target.to(device)\n",
        "\n",
        "            # pass the image to the model and assign the output to variable named output\n",
        "            output = model(data)\n",
        "\n",
        "          #### YOUR CODE ENDS HERE ####\n",
        "            test_loss += criterion(output, target).item()  # sum up batch loss\n",
        "            pred = output.argmax(dim=1, keepdim=True)  # get the index of the max log-probability\n",
        "            correct += pred.eq(target.view_as(pred)).sum().item()\n",
        "\n",
        "    test_loss /= len(test_loader.dataset)\n",
        "\n",
        "    print('\\nTest set: Average loss: {:.4f}, Accuracy: {}/{} ({:.0f}%)\\n'.format(\n",
        "        test_loss, correct, len(test_loader.dataset),\n",
        "        100. * correct / len(test_loader.dataset)))"
      ],
      "execution_count": 64,
      "outputs": []
    },
    {
      "cell_type": "code",
      "metadata": {
        "id": "hyoPZ87tMzp-",
        "colab": {
          "base_uri": "https://localhost:8080/"
        },
        "outputId": "7dda8f3c-9fc9-4d10-e04e-c220a11ffedc"
      },
      "source": [
        "model = ResNet18(BasicBlock, num_classes=10).to(device)\n",
        "criterion = nn.CrossEntropyLoss().cuda()\n",
        "## Define Adam Optimiser with a learning rate of 0.01\n",
        "optimizer = optim.Adam(model.parameters(), lr=0.01)\n",
        "\n",
        "start = timeit.default_timer()\n",
        "for epoch in range(1, 11):\n",
        "    train(model, device, train_dataloader, criterion, optimizer, epoch)\n",
        "    test(model, device, test_dataloader, criterion)\n",
        "stop = timeit.default_timer()\n",
        "print('Total time taken: {} seconds'.format(int(stop - start)) )"
      ],
      "execution_count": null,
      "outputs": [
        {
          "output_type": "stream",
          "name": "stdout",
          "text": [
            "Train Epoch: 1 [0/60000 (0%)]\tLoss: 2.756939\n",
            "Train Epoch: 1 [640/60000 (1%)]\tLoss: 1.509076\n",
            "Train Epoch: 1 [1280/60000 (2%)]\tLoss: 1.083374\n",
            "Train Epoch: 1 [1920/60000 (3%)]\tLoss: 0.599221\n",
            "Train Epoch: 1 [2560/60000 (4%)]\tLoss: 0.436119\n",
            "Train Epoch: 1 [3200/60000 (5%)]\tLoss: 0.841798\n",
            "Train Epoch: 1 [3840/60000 (6%)]\tLoss: 0.453044\n",
            "Train Epoch: 1 [4480/60000 (7%)]\tLoss: 0.191535\n",
            "Train Epoch: 1 [5120/60000 (9%)]\tLoss: 0.569872\n",
            "Train Epoch: 1 [5760/60000 (10%)]\tLoss: 0.635119\n",
            "Train Epoch: 1 [6400/60000 (11%)]\tLoss: 0.439259\n",
            "Train Epoch: 1 [7040/60000 (12%)]\tLoss: 0.375938\n",
            "Train Epoch: 1 [7680/60000 (13%)]\tLoss: 0.179234\n",
            "Train Epoch: 1 [8320/60000 (14%)]\tLoss: 0.324050\n",
            "Train Epoch: 1 [8960/60000 (15%)]\tLoss: 0.204416\n",
            "Train Epoch: 1 [9600/60000 (16%)]\tLoss: 0.400221\n",
            "Train Epoch: 1 [10240/60000 (17%)]\tLoss: 0.182509\n",
            "Train Epoch: 1 [10880/60000 (18%)]\tLoss: 0.041733\n",
            "Train Epoch: 1 [11520/60000 (19%)]\tLoss: 0.251058\n",
            "Train Epoch: 1 [12160/60000 (20%)]\tLoss: 0.284149\n",
            "Train Epoch: 1 [12800/60000 (21%)]\tLoss: 0.033441\n",
            "Train Epoch: 1 [13440/60000 (22%)]\tLoss: 0.143474\n",
            "Train Epoch: 1 [14080/60000 (23%)]\tLoss: 0.323260\n",
            "Train Epoch: 1 [14720/60000 (25%)]\tLoss: 0.149596\n",
            "Train Epoch: 1 [15360/60000 (26%)]\tLoss: 0.082803\n",
            "Train Epoch: 1 [16000/60000 (27%)]\tLoss: 0.083777\n",
            "Train Epoch: 1 [16640/60000 (28%)]\tLoss: 0.489883\n",
            "Train Epoch: 1 [17280/60000 (29%)]\tLoss: 0.134463\n",
            "Train Epoch: 1 [17920/60000 (30%)]\tLoss: 0.134930\n",
            "Train Epoch: 1 [18560/60000 (31%)]\tLoss: 0.030270\n",
            "Train Epoch: 1 [19200/60000 (32%)]\tLoss: 0.242300\n",
            "Train Epoch: 1 [19840/60000 (33%)]\tLoss: 0.311176\n",
            "Train Epoch: 1 [20480/60000 (34%)]\tLoss: 0.132092\n",
            "Train Epoch: 1 [21120/60000 (35%)]\tLoss: 0.006153\n",
            "Train Epoch: 1 [21760/60000 (36%)]\tLoss: 0.133149\n",
            "Train Epoch: 1 [22400/60000 (37%)]\tLoss: 0.208092\n",
            "Train Epoch: 1 [23040/60000 (38%)]\tLoss: 0.063511\n",
            "Train Epoch: 1 [23680/60000 (39%)]\tLoss: 0.446251\n",
            "Train Epoch: 1 [24320/60000 (41%)]\tLoss: 0.145009\n",
            "Train Epoch: 1 [24960/60000 (42%)]\tLoss: 0.070046\n",
            "Train Epoch: 1 [25600/60000 (43%)]\tLoss: 0.014600\n",
            "Train Epoch: 1 [26240/60000 (44%)]\tLoss: 0.104448\n",
            "Train Epoch: 1 [26880/60000 (45%)]\tLoss: 0.013542\n",
            "Train Epoch: 1 [27520/60000 (46%)]\tLoss: 0.166220\n",
            "Train Epoch: 1 [28160/60000 (47%)]\tLoss: 0.028211\n",
            "Train Epoch: 1 [28800/60000 (48%)]\tLoss: 0.149996\n",
            "Train Epoch: 1 [29440/60000 (49%)]\tLoss: 0.224456\n",
            "Train Epoch: 1 [30080/60000 (50%)]\tLoss: 0.303049\n",
            "Train Epoch: 1 [30720/60000 (51%)]\tLoss: 0.008831\n",
            "Train Epoch: 1 [31360/60000 (52%)]\tLoss: 0.252381\n",
            "Train Epoch: 1 [32000/60000 (53%)]\tLoss: 0.009521\n",
            "Train Epoch: 1 [32640/60000 (54%)]\tLoss: 0.068197\n",
            "Train Epoch: 1 [33280/60000 (55%)]\tLoss: 0.209378\n",
            "Train Epoch: 1 [33920/60000 (57%)]\tLoss: 0.014886\n",
            "Train Epoch: 1 [34560/60000 (58%)]\tLoss: 0.172036\n",
            "Train Epoch: 1 [35200/60000 (59%)]\tLoss: 0.355734\n",
            "Train Epoch: 1 [35840/60000 (60%)]\tLoss: 0.329309\n",
            "Train Epoch: 1 [36480/60000 (61%)]\tLoss: 0.065716\n",
            "Train Epoch: 1 [37120/60000 (62%)]\tLoss: 0.036336\n",
            "Train Epoch: 1 [37760/60000 (63%)]\tLoss: 0.243787\n",
            "Train Epoch: 1 [38400/60000 (64%)]\tLoss: 0.079277\n",
            "Train Epoch: 1 [39040/60000 (65%)]\tLoss: 0.031201\n",
            "Train Epoch: 1 [39680/60000 (66%)]\tLoss: 0.223557\n",
            "Train Epoch: 1 [40320/60000 (67%)]\tLoss: 0.036466\n",
            "Train Epoch: 1 [40960/60000 (68%)]\tLoss: 0.261747\n",
            "Train Epoch: 1 [41600/60000 (69%)]\tLoss: 0.145014\n",
            "Train Epoch: 1 [42240/60000 (70%)]\tLoss: 0.148185\n",
            "Train Epoch: 1 [42880/60000 (71%)]\tLoss: 0.099044\n",
            "Train Epoch: 1 [43520/60000 (73%)]\tLoss: 0.117273\n",
            "Train Epoch: 1 [44160/60000 (74%)]\tLoss: 0.032433\n",
            "Train Epoch: 1 [44800/60000 (75%)]\tLoss: 0.018357\n",
            "Train Epoch: 1 [45440/60000 (76%)]\tLoss: 0.030492\n",
            "Train Epoch: 1 [46080/60000 (77%)]\tLoss: 0.011534\n",
            "Train Epoch: 1 [46720/60000 (78%)]\tLoss: 0.165180\n",
            "Train Epoch: 1 [47360/60000 (79%)]\tLoss: 0.137036\n"
          ]
        }
      ]
    },
    {
      "cell_type": "markdown",
      "metadata": {
        "id": "Qs-uD1BMb7Yl"
      },
      "source": [
        "#### Question-1\n",
        "\n",
        "Report the final test accuracy displayed above (If you are not getting the exact number shown in options, please report the closest number).\n",
        "1. 94%\n",
        "2. 76%\n",
        "3. 48%\n",
        "4. 85%\n",
        "\n",
        "-> 99% ~ 94%"
      ]
    },
    {
      "cell_type": "markdown",
      "metadata": {
        "id": "G8Y26Vp19Zka"
      },
      "source": [
        "### Part-2: Transfer Learning\n",
        "\n"
      ]
    },
    {
      "cell_type": "markdown",
      "metadata": {
        "id": "1DAyepn__Wei"
      },
      "source": [
        "### Download and prepare the Tiny-Imagenet dataset\n"
      ]
    },
    {
      "cell_type": "code",
      "metadata": {
        "id": "sP9A0oukeu-p"
      },
      "source": [
        "!ls"
      ],
      "execution_count": null,
      "outputs": []
    },
    {
      "cell_type": "code",
      "metadata": {
        "id": "RpTE3kK99fRl"
      },
      "source": [
        "!wget http://cs231n.stanford.edu/tiny-imagenet-200.zip && unzip -qq tiny-imagenet-200.zip && rm tiny-imagenet-200.zip"
      ],
      "execution_count": null,
      "outputs": []
    },
    {
      "cell_type": "code",
      "metadata": {
        "id": "EofbttFn4blD"
      },
      "source": [
        "## DONOT modify the code in this cell!\n",
        "## For the curiosu: We're re-organising the files into standard format for easier dataloading\n",
        "\n",
        "import pandas as pd\n",
        "import os\n",
        "import shutil\n",
        "import glob\n",
        "import copy\n",
        "\n",
        "categories = os.listdir('tiny-imagenet-200/train/')\n",
        "assert len(categories) == 200\n",
        "for each in categories:\n",
        "    os.mkdir(f'tiny-imagenet-200/val/{each}')\n",
        "\n",
        "df = pd.read_csv('tiny-imagenet-200/val/val_annotations.txt', delimiter='\\t', header=None)\n",
        "\n",
        "label_to_cat = dict(zip(df[0], df[1]))\n",
        "\n",
        "for each in glob.glob('tiny-imagenet-200/val/images/*.JPEG'):\n",
        "    src = copy.copy(each)\n",
        "    fl_name = each.split('/')[-1]\n",
        "    dest = each.replace('images', label_to_cat[fl_name])\n",
        "    shutil.move(src, dest)"
      ],
      "execution_count": null,
      "outputs": []
    },
    {
      "cell_type": "code",
      "metadata": {
        "id": "YxCJ4hnD-wtR"
      },
      "source": [
        "!rm -rf tiny-imagenet-200/val/images/ tiny-imagenet-200/val/val_annotations.txt tiny-imagenet-200/test/"
      ],
      "execution_count": null,
      "outputs": []
    },
    {
      "cell_type": "code",
      "metadata": {
        "id": "cXiv0RdK9b1V"
      },
      "source": [
        "# This is shold return 10000\n",
        "!cd tiny-imagenet-200/val/ && find . -type f | wc -l"
      ],
      "execution_count": null,
      "outputs": []
    },
    {
      "cell_type": "markdown",
      "metadata": {
        "id": "U99Y-WUU_jub"
      },
      "source": [
        "### Model building\n"
      ]
    },
    {
      "cell_type": "code",
      "metadata": {
        "id": "OMbbVtaKcYLb"
      },
      "source": [
        "import numpy as np\n",
        "import torch\n",
        "import torch.nn as nn\n",
        "import torch.optim as optim\n",
        "from torchvision import datasets, transforms\n",
        "import torchvision\n",
        "import torch.nn.functional as F\n",
        "import timeit\n",
        "import unittest\n",
        "\n",
        "## Please DONOT remove these lines.\n",
        "torch.manual_seed(0)\n",
        "torch.backends.cudnn.deterministic = True\n",
        "torch.backends.cudnn.benchmark = False\n",
        "np.random.seed(0)"
      ],
      "execution_count": null,
      "outputs": []
    },
    {
      "cell_type": "code",
      "metadata": {
        "id": "RDnFqg7D-OKX"
      },
      "source": [
        "# check availability of GPU and set the device accordingly\n",
        "device = torch.device(\"cuda\" if torch.cuda.is_available() else \"cpu\")\n",
        "\n",
        "# define a set of transforms for preparing the dataset\n",
        "normalize = transforms.Normalize(mean=[0.485, 0.456, 0.406], std=[0.229, 0.224, 0.225])\n",
        "\n",
        "transform_train =  transforms.Compose([\n",
        "      transforms.RandomResizedCrop(224), # use random-resized-crop with a image size of 224\n",
        "      transforms.RandomHorizontalFlip(),# flip the image horizontally (use pytorch random horizontal flip)\n",
        "      transforms.ToTensor(), # convert the image to a pytorch tensor\n",
        "      normalize, # normalise the image\n",
        "    ])\n",
        "\n",
        "# define transforms for the test data: Should they be same as the one used for train?\n",
        "transform_test = transforms.Compose([\n",
        "      transforms.Resize(256), # re-size the images to 256x256\n",
        "      transforms.CenterCrop(224), # center-crop the 256 images to 224x224\n",
        "      transforms.ToTensor(),  # convert the image to a pytorch tensor\n",
        "      normalize, # normalise the image\n",
        "    ])\n",
        "\n",
        "use_cuda = torch.cuda.is_available() # if you have acess to a GPU, enabble it to speed the training"
      ],
      "execution_count": null,
      "outputs": []
    },
    {
      "cell_type": "code",
      "metadata": {
        "id": "z1eesbGmcfcH"
      },
      "source": [
        "!ls # You should see tiny-imagenet-200 folder"
      ],
      "execution_count": null,
      "outputs": []
    },
    {
      "cell_type": "code",
      "metadata": {
        "id": "kikXzp0WBY_M"
      },
      "source": [
        "# Load the training, test datasets using `torchvision.datasets.MNIST`\n",
        "#### YOUR CODE STARTS HERE ####\n",
        "train_dataset = datasets.CIFAR10(root='./data', train=True, download=True)\n",
        "test_dataset = datasets.CIFAR10(root='./data', train=False, download=True)\n",
        "\n",
        "#### YOUR CODE ENDS HERE ####"
      ],
      "execution_count": null,
      "outputs": []
    },
    {
      "cell_type": "code",
      "metadata": {
        "id": "dCDZTsdqBYTe"
      },
      "source": [
        "# create dataloaders for training and test datasets\n",
        "# use a batch size of 32 and set shuffle=True for the training set\n",
        "#### YOUR CODE STARTS HERE ####\n",
        "# Define the batch size\n",
        "batch_size = 32\n",
        "\n",
        "# Load the training dataset\n",
        "train_dataset = torchvision.datasets.CIFAR10(\n",
        "    root='./data',\n",
        "    train=True,\n",
        "    download=True,\n",
        "    transform=torchvision.transforms.ToTensor()\n",
        "    )\n",
        "\n",
        "# Create the training dataloader with shuffle enabled\n",
        "train_dataloader = torch.utils.data.DataLoader(\n",
        "    train_dataset,\n",
        "    batch_size=batch_size,\n",
        "    shuffle=True\n",
        "    )\n",
        "\n",
        "# Load the test dataset\n",
        "test_dataset = torchvision.datasets.CIFAR10(\n",
        "    root='./data',\n",
        "    train=False,\n",
        "    download=True,\n",
        "    transform=torchvision.transforms.ToTensor()\n",
        "    )\n",
        "\n",
        "# Create the test dataloader\n",
        "test_dataloader = torch.utils.data.DataLoader(\n",
        "    test_dataset,\n",
        "    batch_size=batch_size,\n",
        "    shuffle=False\n",
        "    )\n",
        "\n",
        "#### YOUR CODE ENDS HERE ####"
      ],
      "execution_count": null,
      "outputs": []
    },
    {
      "cell_type": "code",
      "metadata": {
        "id": "UOp1w3DUcm4t"
      },
      "source": [
        "def train(model, device, train_loader, criterion, optimizer, epoch):\n",
        "    model.train()\n",
        "    for batch_idx, (data, target) in enumerate(train_loader):\n",
        "      #### YOUR CODE STARTS HERE ####\n",
        "        # send the image, target to the device\n",
        "        data, target = data.to(device), target.to(device)\n",
        "\n",
        "        # flush out the gradients stored in optimizer\n",
        "        optimizer.zero_grad()\n",
        "\n",
        "        # pass the image to the model and assign the output to variable named output\n",
        "        output = model(data)\n",
        "\n",
        "        # calculate the loss (use cross entropy in pytorch)\n",
        "        loss = criterion(output, target)\n",
        "\n",
        "        # do a backward pass\n",
        "        loss.backward()\n",
        "\n",
        "        # update the weights\n",
        "        optimizer.step()\n",
        "\n",
        "      #### YOUR CODE ENDS HERE ####\n",
        "        if batch_idx % 20 == 0:\n",
        "            print('Train Epoch: {} [{}/{} ({:.0f}%)]\\tLoss: {:.6f}'.format(\n",
        "                epoch, batch_idx * len(data), len(train_loader.dataset),\n",
        "                100. * batch_idx / len(train_loader), loss.item()))"
      ],
      "execution_count": null,
      "outputs": []
    },
    {
      "cell_type": "code",
      "metadata": {
        "id": "zslYzJtrcshc"
      },
      "source": [
        "def test(model, device, test_loader, criterion):\n",
        "    model.eval()\n",
        "    test_loss = 0\n",
        "    correct = 0\n",
        "    with torch.no_grad():\n",
        "        for data, target in test_loader:\n",
        "          ### YOUR CODE STARTS HERE ####\n",
        "            # send the image, target to the device\n",
        "            data, target = data.to(device), target.to(device)\n",
        "\n",
        "            # pass the image to the model and assign the output to variable named output\n",
        "            output = model(data)\n",
        "\n",
        "          #### YOUR CODE ENDS HERE ####\n",
        "            test_loss += criterion(output, target).item()  # sum up batch loss\n",
        "            pred = output.argmax(dim=1, keepdim=True)  # get the index of the max log-probability\n",
        "            correct += pred.eq(target.view_as(pred)).sum().item()\n",
        "\n",
        "    test_loss /= len(test_loader.dataset)\n",
        "\n",
        "    print('\\nTest set: Average loss: {:.4f}, Accuracy: {}/{} ({:.0f}%)\\n'.format(\n",
        "\n",
        "        test_loss, correct, len(test_loader.dataset),\n",
        "        100. * correct / len(test_loader.dataset)))"
      ],
      "execution_count": null,
      "outputs": []
    },
    {
      "cell_type": "markdown",
      "metadata": {
        "id": "ditBA8j2lyxA"
      },
      "source": [
        "### Question-2\n",
        "\n",
        "What are the number of input features for the final FC layer in Resnet-50? (Hint: Use the code below)\n",
        "\n",
        "1. 1024\n",
        "2. 512\n",
        "3. 784\n",
        "4. 2048\n",
        "\n",
        "-> 2048"
      ]
    },
    {
      "cell_type": "code",
      "metadata": {
        "id": "UlN8A0CBI-k2"
      },
      "source": [
        "model = torchvision.models.resnet50(pretrained=True)\n",
        "num_features = model.fc.in_features\n",
        "num_features"
      ],
      "execution_count": null,
      "outputs": []
    },
    {
      "cell_type": "code",
      "metadata": {
        "id": "T3djBkDXctnx"
      },
      "source": [
        "# use the resnet50 model provided by pytorch with pre-trained parameter set to true\n",
        "# detach the final FC layer of Resnet-50 and attach a layer with 200 output nodes (number of classes in tiny-imagenet)\n",
        "### YOUR CODE STARTS HERE ####\n",
        "\n",
        "# Load the pre-trained ResNet-50 model\n",
        "model = torchvision.models.resnet50(pretrained=True)\n",
        "\n",
        "# Detach the final FC layer of ResNet-50\n",
        "num_features = model.fc.in_features\n",
        "model.fc = nn.Identity()\n",
        "\n",
        "# Attach a new FC layer with 200 output nodes\n",
        "model.fc = nn.Linear(num_features, 200)\n",
        "\n",
        "\n",
        "### YOUR CODE ENDS HERE ####\n",
        "model = model.to(device)\n",
        "\n",
        "criterion = nn.CrossEntropyLoss().cuda()\n",
        "## Define Adam Optimiser with a learning rate of 0.01 (You should add the FC layer parameters only)\n",
        "optimizer = optim.Adam(model.fc.parameters(), lr=0.01)\n",
        "\n",
        "start = timeit.default_timer()\n",
        "for epoch in range(1, 5):\n",
        "    train(model, device, train_dataloader, criterion, optimizer, epoch)\n",
        "    test(model, device, test_dataloader, criterion)\n",
        "stop = timeit.default_timer()\n",
        "print('Total time taken: {} seconds'.format(int(stop - start)) )"
      ],
      "execution_count": null,
      "outputs": []
    },
    {
      "cell_type": "markdown",
      "metadata": {
        "id": "-e8W4HtbeG4Q"
      },
      "source": [
        "#### Question-3\n",
        "\n",
        "Report the final test accuracy displayed above (If you are not getting the exact number shown in options, please report the closest number).\n",
        "\n",
        "1. 83%\n",
        "2. 35%\n",
        "3. 70%\n",
        "4. 94%"
      ]
    },
    {
      "cell_type": "code",
      "metadata": {
        "id": "2PsUKoKHc3Xv"
      },
      "source": [],
      "execution_count": null,
      "outputs": []
    }
  ]
}